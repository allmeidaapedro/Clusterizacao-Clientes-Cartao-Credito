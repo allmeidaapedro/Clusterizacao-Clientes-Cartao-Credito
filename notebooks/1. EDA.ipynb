{
 "cells": [
  {
   "cell_type": "markdown",
   "metadata": {},
   "source": [
    "# Clusterização de clientes de instituição financeira\n",
    "Neste projeto, eu construirei um modelo de machine learning para agrupar clientes de uma instituição financeira baseado nos seus perfis de gastos, de forma que eles possam ter mais controle e gestão sobre suas finanças através de um novo produto que está sendo desenvolvido. Esta é uma tarefa de aprendizado não supervisionado, em que temos um conjunto de dados sem rótulos.\n",
    "\n",
    "Utilizarei o seguinte pipeline de solução, baseado no framework CRISP-DM:\n",
    "1. Definir o problema de negócio.\n",
    "2. Coletar os dados e obter uma visão geral deles.\n",
    "3. Explorar os dados (EDA) e realizar feature engineering.\n",
    "4. Limpeza e pré-processamento dos dados.\n",
    "5. Agrupar clientes em clusters utilizando algoritmos de machine learning.\n",
    "6. Interpretar os resultados, analisando os grupos criados e obtendo personas. Então, fornecer insights de negócio para auxiliar a tomada de decisão pela empresa.\n",
    "\n",
    "Cada passo será abordado em detalhes abaixo, explicando o que será feito e o porquê de cada decisão tomada."
   ]
  },
  {
   "cell_type": "markdown",
   "metadata": {},
   "source": [
    "# 1. Problema de negócio\n",
    "Uma empresa do setor financeiro deseja agrupar clientes baseado nos seus perfis de gastos, de forma que eles possam ter mais controle e gestão sobre suas finanças através de um produto que está sendo desenvolvido.\n",
    "\n",
    "Agrupar os clientes de acordo com o perfil de gastos pode ser extremamente benéfico para uma empresa que desenvolve um produto de gerenciamento de gastos. Entre os motivos para isso, estão:\n",
    "\n",
    "1. Personalização de Serviços: Agrupar clientes com base em seus perfis de gastos permite que a empresa personalize seus serviços e recomendações. Clientes com comportamentos de gastos semelhantes podem receber orientações específicas e ofertas personalizadas que atendam às suas necessidades individuais.\n",
    "\n",
    "2. Segmentação de Mercado: A segmentação de clientes com base em seus padrões de gastos ajuda a empresa a identificar grupos de clientes com características e preferências semelhantes. Isso pode levar a estratégias de marketing mais eficazes, direcionadas a públicos-alvo específicos, aumentando as chances de conversão.\n",
    "\n",
    "3. Melhoria na Experiência do Cliente: Ao entender melhor como diferentes grupos de clientes gastam seu dinheiro, a empresa pode ajustar a interface e as funcionalidades do produto para atender às necessidades de cada grupo. Isso melhora a experiência do cliente e a satisfação geral.\n",
    "\n",
    "4. Aprimoramento do Desenvolvimento de Produtos: Ao analisar os dados dos diferentes grupos de clientes, a empresa pode obter insights valiosos para o desenvolvimento de novos recursos ou produtos. Isso ajuda a garantir que o produto evolua de acordo com as necessidades reais dos clientes."
   ]
  },
  {
   "cell_type": "markdown",
   "metadata": {},
   "source": [
    "### Importando as bibliotecas necessárias"
   ]
  },
  {
   "cell_type": "code",
   "execution_count": 138,
   "metadata": {},
   "outputs": [],
   "source": [
    "# Manipulação e visualização de dados.\n",
    "import pandas as pd\n",
    "import numpy as np\n",
    "import matplotlib.pyplot as plt\n",
    "import seaborn as sns"
   ]
  },
  {
   "cell_type": "markdown",
   "metadata": {},
   "source": [
    "# 2. Entendimento geral dos dados\n",
    "- Os dados são fictícios e contêm informações de pessoas, contas e transações. \n",
    "- A base de transações possui registros detalhados de transações bancárias e de cartão de crédito.\n",
    "- As bases se relacionam por meio de identificadores. "
   ]
  },
  {
   "cell_type": "code",
   "execution_count": 139,
   "metadata": {},
   "outputs": [],
   "source": [
    "accounts = pd.read_csv('data/accounts.csv')\n",
    "person = pd.read_csv('data/person.csv')\n",
    "transactions = pd.read_csv('data/transactions.csv')"
   ]
  },
  {
   "cell_type": "markdown",
   "metadata": {},
   "source": [
    "Antes de tudo, vamos dar uma olhada nos 3 datasets, de forma que possamos uni-los através da função \"merge\" do Pandas."
   ]
  },
  {
   "cell_type": "code",
   "execution_count": 140,
   "metadata": {},
   "outputs": [
    {
     "data": {
      "text/html": [
       "<div>\n",
       "<style scoped>\n",
       "    .dataframe tbody tr th:only-of-type {\n",
       "        vertical-align: middle;\n",
       "    }\n",
       "\n",
       "    .dataframe tbody tr th {\n",
       "        vertical-align: top;\n",
       "    }\n",
       "\n",
       "    .dataframe thead th {\n",
       "        text-align: right;\n",
       "    }\n",
       "</style>\n",
       "<table border=\"1\" class=\"dataframe\">\n",
       "  <thead>\n",
       "    <tr style=\"text-align: right;\">\n",
       "      <th></th>\n",
       "      <th>id</th>\n",
       "      <th>type</th>\n",
       "      <th>subtype</th>\n",
       "      <th>balance</th>\n",
       "      <th>currency_code</th>\n",
       "      <th>name</th>\n",
       "      <th>person_id</th>\n",
       "      <th>account_id</th>\n",
       "      <th>date</th>\n",
       "    </tr>\n",
       "  </thead>\n",
       "  <tbody>\n",
       "    <tr>\n",
       "      <th>0</th>\n",
       "      <td>1968bd13-dd25-4f88-bccc-5cff92d6811b</td>\n",
       "      <td>BANK</td>\n",
       "      <td>SAVINGS_ACCOUNT</td>\n",
       "      <td>3826.72</td>\n",
       "      <td>BRL</td>\n",
       "      <td>Caixinha</td>\n",
       "      <td>644f5d18-5bfa-45f9-8aa7-401c05b3b9f2</td>\n",
       "      <td>1968bd13-dd25-4f88-bccc-5cff92d6811b</td>\n",
       "      <td>2023-09-14 14:03:16</td>\n",
       "    </tr>\n",
       "    <tr>\n",
       "      <th>1</th>\n",
       "      <td>978f92cf-8d5b-437a-a046-cdaa9105624c</td>\n",
       "      <td>CREDIT</td>\n",
       "      <td>CREDIT_CARD</td>\n",
       "      <td>6311.67</td>\n",
       "      <td>BRL</td>\n",
       "      <td>Cartão de Crédito</td>\n",
       "      <td>644f5d18-5bfa-45f9-8aa7-401c05b3b9f2</td>\n",
       "      <td>978f92cf-8d5b-437a-a046-cdaa9105624c</td>\n",
       "      <td>2023-09-15 15:50:21</td>\n",
       "    </tr>\n",
       "    <tr>\n",
       "      <th>2</th>\n",
       "      <td>dcd96f70-8b16-42b0-a944-afec5d8305ce</td>\n",
       "      <td>CREDIT</td>\n",
       "      <td>CREDIT_CARD</td>\n",
       "      <td>7482.25</td>\n",
       "      <td>BRL</td>\n",
       "      <td>Cartão de Crédito</td>\n",
       "      <td>644f5d18-5bfa-45f9-8aa7-401c05b3b9f2</td>\n",
       "      <td>dcd96f70-8b16-42b0-a944-afec5d8305ce</td>\n",
       "      <td>2023-09-09 03:38:49</td>\n",
       "    </tr>\n",
       "    <tr>\n",
       "      <th>3</th>\n",
       "      <td>6c2a44fe-2ba7-4626-aaff-f244a0647eae</td>\n",
       "      <td>BANK</td>\n",
       "      <td>SAVINGS_ACCOUNT</td>\n",
       "      <td>5740.29</td>\n",
       "      <td>BRL</td>\n",
       "      <td>Caixinha</td>\n",
       "      <td>644f5d18-5bfa-45f9-8aa7-401c05b3b9f2</td>\n",
       "      <td>6c2a44fe-2ba7-4626-aaff-f244a0647eae</td>\n",
       "      <td>2023-09-12 14:21:21</td>\n",
       "    </tr>\n",
       "    <tr>\n",
       "      <th>4</th>\n",
       "      <td>abb359a2-3802-48e7-976b-8671e1de0884</td>\n",
       "      <td>BANK</td>\n",
       "      <td>CHECKING_ACCOUNT</td>\n",
       "      <td>5136.49</td>\n",
       "      <td>BRL</td>\n",
       "      <td>Conta Corrente</td>\n",
       "      <td>644f5d18-5bfa-45f9-8aa7-401c05b3b9f2</td>\n",
       "      <td>abb359a2-3802-48e7-976b-8671e1de0884</td>\n",
       "      <td>2023-09-12 04:10:04</td>\n",
       "    </tr>\n",
       "  </tbody>\n",
       "</table>\n",
       "</div>"
      ],
      "text/plain": [
       "                                     id    type           subtype  balance   \n",
       "0  1968bd13-dd25-4f88-bccc-5cff92d6811b    BANK   SAVINGS_ACCOUNT  3826.72  \\\n",
       "1  978f92cf-8d5b-437a-a046-cdaa9105624c  CREDIT       CREDIT_CARD  6311.67   \n",
       "2  dcd96f70-8b16-42b0-a944-afec5d8305ce  CREDIT       CREDIT_CARD  7482.25   \n",
       "3  6c2a44fe-2ba7-4626-aaff-f244a0647eae    BANK   SAVINGS_ACCOUNT  5740.29   \n",
       "4  abb359a2-3802-48e7-976b-8671e1de0884    BANK  CHECKING_ACCOUNT  5136.49   \n",
       "\n",
       "  currency_code               name                             person_id   \n",
       "0           BRL           Caixinha  644f5d18-5bfa-45f9-8aa7-401c05b3b9f2  \\\n",
       "1           BRL  Cartão de Crédito  644f5d18-5bfa-45f9-8aa7-401c05b3b9f2   \n",
       "2           BRL  Cartão de Crédito  644f5d18-5bfa-45f9-8aa7-401c05b3b9f2   \n",
       "3           BRL           Caixinha  644f5d18-5bfa-45f9-8aa7-401c05b3b9f2   \n",
       "4           BRL     Conta Corrente  644f5d18-5bfa-45f9-8aa7-401c05b3b9f2   \n",
       "\n",
       "                             account_id                 date  \n",
       "0  1968bd13-dd25-4f88-bccc-5cff92d6811b  2023-09-14 14:03:16  \n",
       "1  978f92cf-8d5b-437a-a046-cdaa9105624c  2023-09-15 15:50:21  \n",
       "2  dcd96f70-8b16-42b0-a944-afec5d8305ce  2023-09-09 03:38:49  \n",
       "3  6c2a44fe-2ba7-4626-aaff-f244a0647eae  2023-09-12 14:21:21  \n",
       "4  abb359a2-3802-48e7-976b-8671e1de0884  2023-09-12 04:10:04  "
      ]
     },
     "execution_count": 140,
     "metadata": {},
     "output_type": "execute_result"
    }
   ],
   "source": [
    "accounts.head()"
   ]
  },
  {
   "cell_type": "code",
   "execution_count": 141,
   "metadata": {},
   "outputs": [
    {
     "data": {
      "text/html": [
       "<div>\n",
       "<style scoped>\n",
       "    .dataframe tbody tr th:only-of-type {\n",
       "        vertical-align: middle;\n",
       "    }\n",
       "\n",
       "    .dataframe tbody tr th {\n",
       "        vertical-align: top;\n",
       "    }\n",
       "\n",
       "    .dataframe thead th {\n",
       "        text-align: right;\n",
       "    }\n",
       "</style>\n",
       "<table border=\"1\" class=\"dataframe\">\n",
       "  <thead>\n",
       "    <tr style=\"text-align: right;\">\n",
       "      <th></th>\n",
       "      <th>id</th>\n",
       "      <th>name</th>\n",
       "      <th>suitability</th>\n",
       "    </tr>\n",
       "  </thead>\n",
       "  <tbody>\n",
       "    <tr>\n",
       "      <th>0</th>\n",
       "      <td>644f5d18-5bfa-45f9-8aa7-401c05b3b9f2</td>\n",
       "      <td>Ana Julia Santos</td>\n",
       "      <td>conservador</td>\n",
       "    </tr>\n",
       "    <tr>\n",
       "      <th>1</th>\n",
       "      <td>01018c18-ecb5-4cb6-b16f-bece97935974</td>\n",
       "      <td>Emilly Moura</td>\n",
       "      <td>moderado-agressivo</td>\n",
       "    </tr>\n",
       "    <tr>\n",
       "      <th>2</th>\n",
       "      <td>65d3336e-dafd-4663-8a53-97792c847074</td>\n",
       "      <td>Luiz Miguel Caldeira</td>\n",
       "      <td>conservador</td>\n",
       "    </tr>\n",
       "    <tr>\n",
       "      <th>3</th>\n",
       "      <td>6a33c027-13f2-4fbf-8bbb-74e6438d11c8</td>\n",
       "      <td>Sarah Souza</td>\n",
       "      <td>moderado-conservador</td>\n",
       "    </tr>\n",
       "    <tr>\n",
       "      <th>4</th>\n",
       "      <td>55252085-c5d6-4b7d-b221-fd3ad76ba8e5</td>\n",
       "      <td>Samuel Oliveira</td>\n",
       "      <td>moderado-agressivo</td>\n",
       "    </tr>\n",
       "  </tbody>\n",
       "</table>\n",
       "</div>"
      ],
      "text/plain": [
       "                                     id                  name   \n",
       "0  644f5d18-5bfa-45f9-8aa7-401c05b3b9f2      Ana Julia Santos  \\\n",
       "1  01018c18-ecb5-4cb6-b16f-bece97935974          Emilly Moura   \n",
       "2  65d3336e-dafd-4663-8a53-97792c847074  Luiz Miguel Caldeira   \n",
       "3  6a33c027-13f2-4fbf-8bbb-74e6438d11c8           Sarah Souza   \n",
       "4  55252085-c5d6-4b7d-b221-fd3ad76ba8e5       Samuel Oliveira   \n",
       "\n",
       "            suitability  \n",
       "0           conservador  \n",
       "1    moderado-agressivo  \n",
       "2           conservador  \n",
       "3  moderado-conservador  \n",
       "4    moderado-agressivo  "
      ]
     },
     "execution_count": 141,
     "metadata": {},
     "output_type": "execute_result"
    }
   ],
   "source": [
    "person.head()"
   ]
  },
  {
   "cell_type": "code",
   "execution_count": 142,
   "metadata": {},
   "outputs": [
    {
     "data": {
      "text/html": [
       "<div>\n",
       "<style scoped>\n",
       "    .dataframe tbody tr th:only-of-type {\n",
       "        vertical-align: middle;\n",
       "    }\n",
       "\n",
       "    .dataframe tbody tr th {\n",
       "        vertical-align: top;\n",
       "    }\n",
       "\n",
       "    .dataframe thead th {\n",
       "        text-align: right;\n",
       "    }\n",
       "</style>\n",
       "<table border=\"1\" class=\"dataframe\">\n",
       "  <thead>\n",
       "    <tr style=\"text-align: right;\">\n",
       "      <th></th>\n",
       "      <th>id</th>\n",
       "      <th>currency_code</th>\n",
       "      <th>amount</th>\n",
       "      <th>date</th>\n",
       "      <th>category</th>\n",
       "      <th>account_id</th>\n",
       "    </tr>\n",
       "  </thead>\n",
       "  <tbody>\n",
       "    <tr>\n",
       "      <th>0</th>\n",
       "      <td>b7ebd81b-98f7-47ab-91f3-52bc80be57a6</td>\n",
       "      <td>BRL</td>\n",
       "      <td>-498.71</td>\n",
       "      <td>2023-07-20 03:57:57</td>\n",
       "      <td>Educação</td>\n",
       "      <td>1968bd13-dd25-4f88-bccc-5cff92d6811b</td>\n",
       "    </tr>\n",
       "    <tr>\n",
       "      <th>1</th>\n",
       "      <td>b8d83679-02ab-4241-b15d-11e9c0033864</td>\n",
       "      <td>BRL</td>\n",
       "      <td>-265.00</td>\n",
       "      <td>2023-07-23 05:17:06</td>\n",
       "      <td>Outras saídas</td>\n",
       "      <td>1968bd13-dd25-4f88-bccc-5cff92d6811b</td>\n",
       "    </tr>\n",
       "    <tr>\n",
       "      <th>2</th>\n",
       "      <td>99cab263-da5c-4706-9f2c-92cb779acaf7</td>\n",
       "      <td>BRL</td>\n",
       "      <td>-18.95</td>\n",
       "      <td>2023-06-26 05:54:25</td>\n",
       "      <td>Transporte</td>\n",
       "      <td>1968bd13-dd25-4f88-bccc-5cff92d6811b</td>\n",
       "    </tr>\n",
       "    <tr>\n",
       "      <th>3</th>\n",
       "      <td>5a78f1f0-f541-440f-9d3d-c8c21373ffc8</td>\n",
       "      <td>BRL</td>\n",
       "      <td>-262.70</td>\n",
       "      <td>2023-06-21 00:34:08</td>\n",
       "      <td>Outras saídas</td>\n",
       "      <td>1968bd13-dd25-4f88-bccc-5cff92d6811b</td>\n",
       "    </tr>\n",
       "    <tr>\n",
       "      <th>4</th>\n",
       "      <td>fc4e9552-bb41-4757-8c16-ff2c584ee01b</td>\n",
       "      <td>BRL</td>\n",
       "      <td>-179.44</td>\n",
       "      <td>2023-08-05 01:09:42</td>\n",
       "      <td>Imposto, juros e multa</td>\n",
       "      <td>1968bd13-dd25-4f88-bccc-5cff92d6811b</td>\n",
       "    </tr>\n",
       "  </tbody>\n",
       "</table>\n",
       "</div>"
      ],
      "text/plain": [
       "                                     id currency_code  amount   \n",
       "0  b7ebd81b-98f7-47ab-91f3-52bc80be57a6           BRL -498.71  \\\n",
       "1  b8d83679-02ab-4241-b15d-11e9c0033864           BRL -265.00   \n",
       "2  99cab263-da5c-4706-9f2c-92cb779acaf7           BRL  -18.95   \n",
       "3  5a78f1f0-f541-440f-9d3d-c8c21373ffc8           BRL -262.70   \n",
       "4  fc4e9552-bb41-4757-8c16-ff2c584ee01b           BRL -179.44   \n",
       "\n",
       "                  date                category   \n",
       "0  2023-07-20 03:57:57                Educação  \\\n",
       "1  2023-07-23 05:17:06           Outras saídas   \n",
       "2  2023-06-26 05:54:25              Transporte   \n",
       "3  2023-06-21 00:34:08           Outras saídas   \n",
       "4  2023-08-05 01:09:42  Imposto, juros e multa   \n",
       "\n",
       "                             account_id  \n",
       "0  1968bd13-dd25-4f88-bccc-5cff92d6811b  \n",
       "1  1968bd13-dd25-4f88-bccc-5cff92d6811b  \n",
       "2  1968bd13-dd25-4f88-bccc-5cff92d6811b  \n",
       "3  1968bd13-dd25-4f88-bccc-5cff92d6811b  \n",
       "4  1968bd13-dd25-4f88-bccc-5cff92d6811b  "
      ]
     },
     "execution_count": 142,
     "metadata": {},
     "output_type": "execute_result"
    }
   ],
   "source": [
    "transactions.head()"
   ]
  },
  {
   "cell_type": "markdown",
   "metadata": {},
   "source": [
    "Olhando as dimensõs dos três datasets."
   ]
  },
  {
   "cell_type": "code",
   "execution_count": 143,
   "metadata": {},
   "outputs": [
    {
     "data": {
      "text/plain": [
       "((7569, 9), (2531, 3), (400110, 6))"
      ]
     },
     "execution_count": 143,
     "metadata": {},
     "output_type": "execute_result"
    }
   ],
   "source": [
    "accounts.shape, person.shape, transactions.shape"
   ]
  },
  {
   "cell_type": "markdown",
   "metadata": {},
   "source": [
    "Considerando que a coluna id em person corresponde ao person_id em accounts, vou realizar a união desses dois. Então, uma vez que account_id é a chave comum entre accounts e transactions, unirei novamente, obtendo o dataset final."
   ]
  },
  {
   "cell_type": "code",
   "execution_count": 144,
   "metadata": {},
   "outputs": [
    {
     "data": {
      "text/html": [
       "<div>\n",
       "<style scoped>\n",
       "    .dataframe tbody tr th:only-of-type {\n",
       "        vertical-align: middle;\n",
       "    }\n",
       "\n",
       "    .dataframe tbody tr th {\n",
       "        vertical-align: top;\n",
       "    }\n",
       "\n",
       "    .dataframe thead th {\n",
       "        text-align: right;\n",
       "    }\n",
       "</style>\n",
       "<table border=\"1\" class=\"dataframe\">\n",
       "  <thead>\n",
       "    <tr style=\"text-align: right;\">\n",
       "      <th></th>\n",
       "      <th>account_type</th>\n",
       "      <th>account_subtype</th>\n",
       "      <th>account_balance</th>\n",
       "      <th>account_name</th>\n",
       "      <th>account_date</th>\n",
       "      <th>person_name</th>\n",
       "      <th>person_suitability</th>\n",
       "      <th>transaction_amount</th>\n",
       "      <th>transaction_date</th>\n",
       "      <th>transaction_category</th>\n",
       "    </tr>\n",
       "  </thead>\n",
       "  <tbody>\n",
       "    <tr>\n",
       "      <th>0</th>\n",
       "      <td>BANK</td>\n",
       "      <td>SAVINGS_ACCOUNT</td>\n",
       "      <td>3826.72</td>\n",
       "      <td>Caixinha</td>\n",
       "      <td>2023-09-14 14:03:16</td>\n",
       "      <td>Ana Julia Santos</td>\n",
       "      <td>conservador</td>\n",
       "      <td>-498.71</td>\n",
       "      <td>2023-07-20 03:57:57</td>\n",
       "      <td>Educação</td>\n",
       "    </tr>\n",
       "    <tr>\n",
       "      <th>1</th>\n",
       "      <td>BANK</td>\n",
       "      <td>SAVINGS_ACCOUNT</td>\n",
       "      <td>3826.72</td>\n",
       "      <td>Caixinha</td>\n",
       "      <td>2023-09-14 14:03:16</td>\n",
       "      <td>Ana Julia Santos</td>\n",
       "      <td>conservador</td>\n",
       "      <td>-265.00</td>\n",
       "      <td>2023-07-23 05:17:06</td>\n",
       "      <td>Outras saídas</td>\n",
       "    </tr>\n",
       "    <tr>\n",
       "      <th>2</th>\n",
       "      <td>BANK</td>\n",
       "      <td>SAVINGS_ACCOUNT</td>\n",
       "      <td>3826.72</td>\n",
       "      <td>Caixinha</td>\n",
       "      <td>2023-09-14 14:03:16</td>\n",
       "      <td>Ana Julia Santos</td>\n",
       "      <td>conservador</td>\n",
       "      <td>-18.95</td>\n",
       "      <td>2023-06-26 05:54:25</td>\n",
       "      <td>Transporte</td>\n",
       "    </tr>\n",
       "    <tr>\n",
       "      <th>3</th>\n",
       "      <td>BANK</td>\n",
       "      <td>SAVINGS_ACCOUNT</td>\n",
       "      <td>3826.72</td>\n",
       "      <td>Caixinha</td>\n",
       "      <td>2023-09-14 14:03:16</td>\n",
       "      <td>Ana Julia Santos</td>\n",
       "      <td>conservador</td>\n",
       "      <td>-262.70</td>\n",
       "      <td>2023-06-21 00:34:08</td>\n",
       "      <td>Outras saídas</td>\n",
       "    </tr>\n",
       "    <tr>\n",
       "      <th>4</th>\n",
       "      <td>BANK</td>\n",
       "      <td>SAVINGS_ACCOUNT</td>\n",
       "      <td>3826.72</td>\n",
       "      <td>Caixinha</td>\n",
       "      <td>2023-09-14 14:03:16</td>\n",
       "      <td>Ana Julia Santos</td>\n",
       "      <td>conservador</td>\n",
       "      <td>-179.44</td>\n",
       "      <td>2023-08-05 01:09:42</td>\n",
       "      <td>Imposto, juros e multa</td>\n",
       "    </tr>\n",
       "  </tbody>\n",
       "</table>\n",
       "</div>"
      ],
      "text/plain": [
       "  account_type  account_subtype  account_balance account_name   \n",
       "0         BANK  SAVINGS_ACCOUNT          3826.72     Caixinha  \\\n",
       "1         BANK  SAVINGS_ACCOUNT          3826.72     Caixinha   \n",
       "2         BANK  SAVINGS_ACCOUNT          3826.72     Caixinha   \n",
       "3         BANK  SAVINGS_ACCOUNT          3826.72     Caixinha   \n",
       "4         BANK  SAVINGS_ACCOUNT          3826.72     Caixinha   \n",
       "\n",
       "          account_date       person_name person_suitability   \n",
       "0  2023-09-14 14:03:16  Ana Julia Santos        conservador  \\\n",
       "1  2023-09-14 14:03:16  Ana Julia Santos        conservador   \n",
       "2  2023-09-14 14:03:16  Ana Julia Santos        conservador   \n",
       "3  2023-09-14 14:03:16  Ana Julia Santos        conservador   \n",
       "4  2023-09-14 14:03:16  Ana Julia Santos        conservador   \n",
       "\n",
       "   transaction_amount     transaction_date    transaction_category  \n",
       "0             -498.71  2023-07-20 03:57:57                Educação  \n",
       "1             -265.00  2023-07-23 05:17:06           Outras saídas  \n",
       "2              -18.95  2023-06-26 05:54:25              Transporte  \n",
       "3             -262.70  2023-06-21 00:34:08           Outras saídas  \n",
       "4             -179.44  2023-08-05 01:09:42  Imposto, juros e multa  "
      ]
     },
     "execution_count": 144,
     "metadata": {},
     "output_type": "execute_result"
    }
   ],
   "source": [
    "merged_df = pd.merge(accounts, person, left_on='person_id', right_on='id', how='inner')\n",
    "df.head()"
   ]
  },
  {
   "cell_type": "code",
   "execution_count": 145,
   "metadata": {},
   "outputs": [
    {
     "data": {
      "text/plain": [
       "(7569, 12)"
      ]
     },
     "execution_count": 145,
     "metadata": {},
     "output_type": "execute_result"
    }
   ],
   "source": [
    "merged_df.shape"
   ]
  },
  {
   "cell_type": "markdown",
   "metadata": {},
   "source": [
    "Observe que a dimensão de transactions foi preservada! Muito bom, a união foi feita corretamente e agora temos, para cada transação, o nome do indivíduo que a realizou."
   ]
  },
  {
   "cell_type": "code",
   "execution_count": 146,
   "metadata": {},
   "outputs": [
    {
     "data": {
      "text/html": [
       "<div>\n",
       "<style scoped>\n",
       "    .dataframe tbody tr th:only-of-type {\n",
       "        vertical-align: middle;\n",
       "    }\n",
       "\n",
       "    .dataframe tbody tr th {\n",
       "        vertical-align: top;\n",
       "    }\n",
       "\n",
       "    .dataframe thead th {\n",
       "        text-align: right;\n",
       "    }\n",
       "</style>\n",
       "<table border=\"1\" class=\"dataframe\">\n",
       "  <thead>\n",
       "    <tr style=\"text-align: right;\">\n",
       "      <th></th>\n",
       "      <th>id_x</th>\n",
       "      <th>type</th>\n",
       "      <th>subtype</th>\n",
       "      <th>balance</th>\n",
       "      <th>currency_code_x</th>\n",
       "      <th>name_x</th>\n",
       "      <th>person_id</th>\n",
       "      <th>account_id</th>\n",
       "      <th>date_x</th>\n",
       "      <th>id_y</th>\n",
       "      <th>name_y</th>\n",
       "      <th>suitability</th>\n",
       "      <th>id</th>\n",
       "      <th>currency_code_y</th>\n",
       "      <th>amount</th>\n",
       "      <th>date_y</th>\n",
       "      <th>category</th>\n",
       "    </tr>\n",
       "  </thead>\n",
       "  <tbody>\n",
       "    <tr>\n",
       "      <th>0</th>\n",
       "      <td>1968bd13-dd25-4f88-bccc-5cff92d6811b</td>\n",
       "      <td>BANK</td>\n",
       "      <td>SAVINGS_ACCOUNT</td>\n",
       "      <td>3826.72</td>\n",
       "      <td>BRL</td>\n",
       "      <td>Caixinha</td>\n",
       "      <td>644f5d18-5bfa-45f9-8aa7-401c05b3b9f2</td>\n",
       "      <td>1968bd13-dd25-4f88-bccc-5cff92d6811b</td>\n",
       "      <td>2023-09-14 14:03:16</td>\n",
       "      <td>644f5d18-5bfa-45f9-8aa7-401c05b3b9f2</td>\n",
       "      <td>Ana Julia Santos</td>\n",
       "      <td>conservador</td>\n",
       "      <td>b7ebd81b-98f7-47ab-91f3-52bc80be57a6</td>\n",
       "      <td>BRL</td>\n",
       "      <td>-498.71</td>\n",
       "      <td>2023-07-20 03:57:57</td>\n",
       "      <td>Educação</td>\n",
       "    </tr>\n",
       "    <tr>\n",
       "      <th>1</th>\n",
       "      <td>1968bd13-dd25-4f88-bccc-5cff92d6811b</td>\n",
       "      <td>BANK</td>\n",
       "      <td>SAVINGS_ACCOUNT</td>\n",
       "      <td>3826.72</td>\n",
       "      <td>BRL</td>\n",
       "      <td>Caixinha</td>\n",
       "      <td>644f5d18-5bfa-45f9-8aa7-401c05b3b9f2</td>\n",
       "      <td>1968bd13-dd25-4f88-bccc-5cff92d6811b</td>\n",
       "      <td>2023-09-14 14:03:16</td>\n",
       "      <td>644f5d18-5bfa-45f9-8aa7-401c05b3b9f2</td>\n",
       "      <td>Ana Julia Santos</td>\n",
       "      <td>conservador</td>\n",
       "      <td>b8d83679-02ab-4241-b15d-11e9c0033864</td>\n",
       "      <td>BRL</td>\n",
       "      <td>-265.00</td>\n",
       "      <td>2023-07-23 05:17:06</td>\n",
       "      <td>Outras saídas</td>\n",
       "    </tr>\n",
       "    <tr>\n",
       "      <th>2</th>\n",
       "      <td>1968bd13-dd25-4f88-bccc-5cff92d6811b</td>\n",
       "      <td>BANK</td>\n",
       "      <td>SAVINGS_ACCOUNT</td>\n",
       "      <td>3826.72</td>\n",
       "      <td>BRL</td>\n",
       "      <td>Caixinha</td>\n",
       "      <td>644f5d18-5bfa-45f9-8aa7-401c05b3b9f2</td>\n",
       "      <td>1968bd13-dd25-4f88-bccc-5cff92d6811b</td>\n",
       "      <td>2023-09-14 14:03:16</td>\n",
       "      <td>644f5d18-5bfa-45f9-8aa7-401c05b3b9f2</td>\n",
       "      <td>Ana Julia Santos</td>\n",
       "      <td>conservador</td>\n",
       "      <td>99cab263-da5c-4706-9f2c-92cb779acaf7</td>\n",
       "      <td>BRL</td>\n",
       "      <td>-18.95</td>\n",
       "      <td>2023-06-26 05:54:25</td>\n",
       "      <td>Transporte</td>\n",
       "    </tr>\n",
       "    <tr>\n",
       "      <th>3</th>\n",
       "      <td>1968bd13-dd25-4f88-bccc-5cff92d6811b</td>\n",
       "      <td>BANK</td>\n",
       "      <td>SAVINGS_ACCOUNT</td>\n",
       "      <td>3826.72</td>\n",
       "      <td>BRL</td>\n",
       "      <td>Caixinha</td>\n",
       "      <td>644f5d18-5bfa-45f9-8aa7-401c05b3b9f2</td>\n",
       "      <td>1968bd13-dd25-4f88-bccc-5cff92d6811b</td>\n",
       "      <td>2023-09-14 14:03:16</td>\n",
       "      <td>644f5d18-5bfa-45f9-8aa7-401c05b3b9f2</td>\n",
       "      <td>Ana Julia Santos</td>\n",
       "      <td>conservador</td>\n",
       "      <td>5a78f1f0-f541-440f-9d3d-c8c21373ffc8</td>\n",
       "      <td>BRL</td>\n",
       "      <td>-262.70</td>\n",
       "      <td>2023-06-21 00:34:08</td>\n",
       "      <td>Outras saídas</td>\n",
       "    </tr>\n",
       "    <tr>\n",
       "      <th>4</th>\n",
       "      <td>1968bd13-dd25-4f88-bccc-5cff92d6811b</td>\n",
       "      <td>BANK</td>\n",
       "      <td>SAVINGS_ACCOUNT</td>\n",
       "      <td>3826.72</td>\n",
       "      <td>BRL</td>\n",
       "      <td>Caixinha</td>\n",
       "      <td>644f5d18-5bfa-45f9-8aa7-401c05b3b9f2</td>\n",
       "      <td>1968bd13-dd25-4f88-bccc-5cff92d6811b</td>\n",
       "      <td>2023-09-14 14:03:16</td>\n",
       "      <td>644f5d18-5bfa-45f9-8aa7-401c05b3b9f2</td>\n",
       "      <td>Ana Julia Santos</td>\n",
       "      <td>conservador</td>\n",
       "      <td>fc4e9552-bb41-4757-8c16-ff2c584ee01b</td>\n",
       "      <td>BRL</td>\n",
       "      <td>-179.44</td>\n",
       "      <td>2023-08-05 01:09:42</td>\n",
       "      <td>Imposto, juros e multa</td>\n",
       "    </tr>\n",
       "  </tbody>\n",
       "</table>\n",
       "</div>"
      ],
      "text/plain": [
       "                                   id_x  type          subtype  balance   \n",
       "0  1968bd13-dd25-4f88-bccc-5cff92d6811b  BANK  SAVINGS_ACCOUNT  3826.72  \\\n",
       "1  1968bd13-dd25-4f88-bccc-5cff92d6811b  BANK  SAVINGS_ACCOUNT  3826.72   \n",
       "2  1968bd13-dd25-4f88-bccc-5cff92d6811b  BANK  SAVINGS_ACCOUNT  3826.72   \n",
       "3  1968bd13-dd25-4f88-bccc-5cff92d6811b  BANK  SAVINGS_ACCOUNT  3826.72   \n",
       "4  1968bd13-dd25-4f88-bccc-5cff92d6811b  BANK  SAVINGS_ACCOUNT  3826.72   \n",
       "\n",
       "  currency_code_x    name_x                             person_id   \n",
       "0             BRL  Caixinha  644f5d18-5bfa-45f9-8aa7-401c05b3b9f2  \\\n",
       "1             BRL  Caixinha  644f5d18-5bfa-45f9-8aa7-401c05b3b9f2   \n",
       "2             BRL  Caixinha  644f5d18-5bfa-45f9-8aa7-401c05b3b9f2   \n",
       "3             BRL  Caixinha  644f5d18-5bfa-45f9-8aa7-401c05b3b9f2   \n",
       "4             BRL  Caixinha  644f5d18-5bfa-45f9-8aa7-401c05b3b9f2   \n",
       "\n",
       "                             account_id               date_x   \n",
       "0  1968bd13-dd25-4f88-bccc-5cff92d6811b  2023-09-14 14:03:16  \\\n",
       "1  1968bd13-dd25-4f88-bccc-5cff92d6811b  2023-09-14 14:03:16   \n",
       "2  1968bd13-dd25-4f88-bccc-5cff92d6811b  2023-09-14 14:03:16   \n",
       "3  1968bd13-dd25-4f88-bccc-5cff92d6811b  2023-09-14 14:03:16   \n",
       "4  1968bd13-dd25-4f88-bccc-5cff92d6811b  2023-09-14 14:03:16   \n",
       "\n",
       "                                   id_y            name_y  suitability   \n",
       "0  644f5d18-5bfa-45f9-8aa7-401c05b3b9f2  Ana Julia Santos  conservador  \\\n",
       "1  644f5d18-5bfa-45f9-8aa7-401c05b3b9f2  Ana Julia Santos  conservador   \n",
       "2  644f5d18-5bfa-45f9-8aa7-401c05b3b9f2  Ana Julia Santos  conservador   \n",
       "3  644f5d18-5bfa-45f9-8aa7-401c05b3b9f2  Ana Julia Santos  conservador   \n",
       "4  644f5d18-5bfa-45f9-8aa7-401c05b3b9f2  Ana Julia Santos  conservador   \n",
       "\n",
       "                                     id currency_code_y  amount   \n",
       "0  b7ebd81b-98f7-47ab-91f3-52bc80be57a6             BRL -498.71  \\\n",
       "1  b8d83679-02ab-4241-b15d-11e9c0033864             BRL -265.00   \n",
       "2  99cab263-da5c-4706-9f2c-92cb779acaf7             BRL  -18.95   \n",
       "3  5a78f1f0-f541-440f-9d3d-c8c21373ffc8             BRL -262.70   \n",
       "4  fc4e9552-bb41-4757-8c16-ff2c584ee01b             BRL -179.44   \n",
       "\n",
       "                date_y                category  \n",
       "0  2023-07-20 03:57:57                Educação  \n",
       "1  2023-07-23 05:17:06           Outras saídas  \n",
       "2  2023-06-26 05:54:25              Transporte  \n",
       "3  2023-06-21 00:34:08           Outras saídas  \n",
       "4  2023-08-05 01:09:42  Imposto, juros e multa  "
      ]
     },
     "execution_count": 146,
     "metadata": {},
     "output_type": "execute_result"
    }
   ],
   "source": [
    "df = pd.merge(merged_df, transactions, on='account_id', how='inner')\n",
    "df.head()"
   ]
  },
  {
   "cell_type": "code",
   "execution_count": 147,
   "metadata": {},
   "outputs": [
    {
     "data": {
      "text/plain": [
       "(400110, 17)"
      ]
     },
     "execution_count": 147,
     "metadata": {},
     "output_type": "execute_result"
    }
   ],
   "source": [
    "df.shape"
   ]
  },
  {
   "cell_type": "markdown",
   "metadata": {},
   "source": [
    "Perfeito! Os 3 datasets estão corretamente unidos e já podemos começar a explorar o dataset unido!"
   ]
  },
  {
   "cell_type": "markdown",
   "metadata": {},
   "source": [
    "Irei renomear algumas features a fim de melhorar a interpretação e tornar a análise exploratória de dados mais fácil. Além disso, irei remover colunas com ids e currency_code pois elas não têm relevância para a análise e modelagem, uma vez que apresentam um valor único para cada observação. Por final irei remover colunas com o nome dos indivíduos pois, da mesma forma, não há relevância para a análise e modelagem, e a coluna account_date, dado que não tenho informações sobre o que ela representa e a coluna transaction_date será de maior utilidade para observar os padrões em transações ao longo do tempo, permitindo um foco maior no que importa."
   ]
  },
  {
   "cell_type": "code",
   "execution_count": 148,
   "metadata": {},
   "outputs": [
    {
     "name": "stdout",
     "output_type": "stream",
     "text": [
      "['BRL']\n",
      "['BRL']\n"
     ]
    }
   ],
   "source": [
    "print(df['currency_code_y'].unique())\n",
    "print(df['currency_code_x'].unique())"
   ]
  },
  {
   "cell_type": "code",
   "execution_count": 149,
   "metadata": {},
   "outputs": [
    {
     "data": {
      "text/plain": [
       "Index(['id_x', 'type', 'subtype', 'balance', 'currency_code_x', 'name_x',\n",
       "       'person_id', 'account_id', 'date_x', 'id_y', 'name_y', 'suitability',\n",
       "       'id', 'currency_code_y', 'amount', 'date_y', 'category'],\n",
       "      dtype='object')"
      ]
     },
     "execution_count": 149,
     "metadata": {},
     "output_type": "execute_result"
    }
   ],
   "source": [
    "df.columns"
   ]
  },
  {
   "cell_type": "markdown",
   "metadata": {},
   "source": [
    "Removendo as colunas com um valor único para cada observação, a coluna contendo os nomes das pessoas e a coluna de datas para cada transação."
   ]
  },
  {
   "cell_type": "code",
   "execution_count": 150,
   "metadata": {},
   "outputs": [],
   "source": [
    "df.drop(columns=['id_x', 'person_id', 'account_id', 'id_y', 'id', 'currency_code_x', 'currency_code_y', 'name_y', 'date_x'], inplace=True)"
   ]
  },
  {
   "cell_type": "markdown",
   "metadata": {},
   "source": [
    "Renomeando colunas."
   ]
  },
  {
   "cell_type": "code",
   "execution_count": 151,
   "metadata": {},
   "outputs": [
    {
     "data": {
      "text/html": [
       "<div>\n",
       "<style scoped>\n",
       "    .dataframe tbody tr th:only-of-type {\n",
       "        vertical-align: middle;\n",
       "    }\n",
       "\n",
       "    .dataframe tbody tr th {\n",
       "        vertical-align: top;\n",
       "    }\n",
       "\n",
       "    .dataframe thead th {\n",
       "        text-align: right;\n",
       "    }\n",
       "</style>\n",
       "<table border=\"1\" class=\"dataframe\">\n",
       "  <thead>\n",
       "    <tr style=\"text-align: right;\">\n",
       "      <th></th>\n",
       "      <th>account_type</th>\n",
       "      <th>account_subtype</th>\n",
       "      <th>account_balance</th>\n",
       "      <th>account_name</th>\n",
       "      <th>person_suitability</th>\n",
       "      <th>transaction_amount</th>\n",
       "      <th>transaction_date</th>\n",
       "      <th>transaction_category</th>\n",
       "    </tr>\n",
       "  </thead>\n",
       "  <tbody>\n",
       "    <tr>\n",
       "      <th>0</th>\n",
       "      <td>BANK</td>\n",
       "      <td>SAVINGS_ACCOUNT</td>\n",
       "      <td>3826.72</td>\n",
       "      <td>Caixinha</td>\n",
       "      <td>conservador</td>\n",
       "      <td>-498.71</td>\n",
       "      <td>2023-07-20 03:57:57</td>\n",
       "      <td>Educação</td>\n",
       "    </tr>\n",
       "    <tr>\n",
       "      <th>1</th>\n",
       "      <td>BANK</td>\n",
       "      <td>SAVINGS_ACCOUNT</td>\n",
       "      <td>3826.72</td>\n",
       "      <td>Caixinha</td>\n",
       "      <td>conservador</td>\n",
       "      <td>-265.00</td>\n",
       "      <td>2023-07-23 05:17:06</td>\n",
       "      <td>Outras saídas</td>\n",
       "    </tr>\n",
       "    <tr>\n",
       "      <th>2</th>\n",
       "      <td>BANK</td>\n",
       "      <td>SAVINGS_ACCOUNT</td>\n",
       "      <td>3826.72</td>\n",
       "      <td>Caixinha</td>\n",
       "      <td>conservador</td>\n",
       "      <td>-18.95</td>\n",
       "      <td>2023-06-26 05:54:25</td>\n",
       "      <td>Transporte</td>\n",
       "    </tr>\n",
       "    <tr>\n",
       "      <th>3</th>\n",
       "      <td>BANK</td>\n",
       "      <td>SAVINGS_ACCOUNT</td>\n",
       "      <td>3826.72</td>\n",
       "      <td>Caixinha</td>\n",
       "      <td>conservador</td>\n",
       "      <td>-262.70</td>\n",
       "      <td>2023-06-21 00:34:08</td>\n",
       "      <td>Outras saídas</td>\n",
       "    </tr>\n",
       "    <tr>\n",
       "      <th>4</th>\n",
       "      <td>BANK</td>\n",
       "      <td>SAVINGS_ACCOUNT</td>\n",
       "      <td>3826.72</td>\n",
       "      <td>Caixinha</td>\n",
       "      <td>conservador</td>\n",
       "      <td>-179.44</td>\n",
       "      <td>2023-08-05 01:09:42</td>\n",
       "      <td>Imposto, juros e multa</td>\n",
       "    </tr>\n",
       "  </tbody>\n",
       "</table>\n",
       "</div>"
      ],
      "text/plain": [
       "  account_type  account_subtype  account_balance account_name   \n",
       "0         BANK  SAVINGS_ACCOUNT          3826.72     Caixinha  \\\n",
       "1         BANK  SAVINGS_ACCOUNT          3826.72     Caixinha   \n",
       "2         BANK  SAVINGS_ACCOUNT          3826.72     Caixinha   \n",
       "3         BANK  SAVINGS_ACCOUNT          3826.72     Caixinha   \n",
       "4         BANK  SAVINGS_ACCOUNT          3826.72     Caixinha   \n",
       "\n",
       "  person_suitability  transaction_amount     transaction_date   \n",
       "0        conservador             -498.71  2023-07-20 03:57:57  \\\n",
       "1        conservador             -265.00  2023-07-23 05:17:06   \n",
       "2        conservador              -18.95  2023-06-26 05:54:25   \n",
       "3        conservador             -262.70  2023-06-21 00:34:08   \n",
       "4        conservador             -179.44  2023-08-05 01:09:42   \n",
       "\n",
       "     transaction_category  \n",
       "0                Educação  \n",
       "1           Outras saídas  \n",
       "2              Transporte  \n",
       "3           Outras saídas  \n",
       "4  Imposto, juros e multa  "
      ]
     },
     "execution_count": 151,
     "metadata": {},
     "output_type": "execute_result"
    }
   ],
   "source": [
    "df.rename(columns={'type': 'account_type', 'subtype': 'account_subtype', 'balance': 'account_balance', 'currency_code_x': 'account_currency_code', 'name_x': 'account_name', 'suitability': 'person_suitability', 'currency_code_y': 'transaction_currency_code', 'amount': 'transaction_amount', 'date_y': 'transaction_date', 'category': 'transaction_category'}, inplace=True)\n",
    "df.head()"
   ]
  },
  {
   "cell_type": "markdown",
   "metadata": {},
   "source": [
    "### Dicionário de variáveis\n",
    "1. account_type: Tipo de conta (BANK, CREDIT), categórica nominal.\n",
    "2. account_subtype: Subtipo de conta (SAVINGS_ACCOUNT, CREDIT_CARD, CHECKING_ACCOUNT), categórica nominal.\n",
    "3. account_balance: Saldo da conta, numérica contínua.\n",
    "4. account_name: Nome da conta (Caixinha, Cartão de Crédito, Conta Corrente, Conta Remunerada, Poupança), categórica nominal.\n",
    "5. person_suitability: Perfil do cliente (conservador, moderado-agressivo, moderado-conservador, moderado, agressivo), categórica ordinal.\n",
    "6. transaction_amount: Total dispendido na transação, numérica contínua.\n",
    "7. transaction_date: Data da transação, categórica nominal.\n",
    "8. transaction_category: Finalidade da transação (Educação, Outras saídas, Transporte,\n",
    "       Imposto, juros e multa, Investimento, Alimentação,\n",
    "       Saúde, Recebido, Moradia, Compras, Lazer), categórica nominal."
   ]
  },
  {
   "cell_type": "code",
   "execution_count": 154,
   "metadata": {},
   "outputs": [
    {
     "data": {
      "text/plain": [
       "array(['Educação', 'Outras saídas', 'Transporte',\n",
       "       'Imposto, juros e multa', 'Investimento', 'Alimentação', nan,\n",
       "       'Saúde', 'Recebido', 'Moradia', 'Compras', 'Lazer'], dtype=object)"
      ]
     },
     "execution_count": 154,
     "metadata": {},
     "output_type": "execute_result"
    }
   ],
   "source": [
    "df['transaction_category'].unique()"
   ]
  }
 ],
 "metadata": {
  "kernelspec": {
   "display_name": "Python 3",
   "language": "python",
   "name": "python3"
  },
  "language_info": {
   "codemirror_mode": {
    "name": "ipython",
    "version": 3
   },
   "file_extension": ".py",
   "mimetype": "text/x-python",
   "name": "python",
   "nbconvert_exporter": "python",
   "pygments_lexer": "ipython3",
   "version": "3.11.5"
  },
  "orig_nbformat": 4
 },
 "nbformat": 4,
 "nbformat_minor": 2
}
